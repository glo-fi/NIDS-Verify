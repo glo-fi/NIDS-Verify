{
 "cells": [
  {
   "cell_type": "markdown",
   "metadata": {},
   "source": [
    "# Convert models"
   ]
  },
  {
   "cell_type": "code",
   "execution_count": 1,
   "metadata": {},
   "outputs": [
    {
     "name": "stdout",
     "output_type": "stream",
     "text": [
      "2025-05-28 15:51:26.779715: I tensorflow/core/util/util.cc:169] oneDNN custom operations are on. You may see slightly different numerical results due to floating-point round-off errors from different computation orders. To turn them off, set the environment variable `TF_ENABLE_ONEDNN_OPTS=0`.\n",
      "2025-05-28 15:51:26.783846: W tensorflow/stream_executor/platform/default/dso_loader.cc:64] Could not load dynamic library 'libcudart.so.11.0'; dlerror: libcudart.so.11.0: cannot open shared object file: No such file or directory\n",
      "2025-05-28 15:51:26.783870: I tensorflow/stream_executor/cuda/cudart_stub.cc:29] Ignore above cudart dlerror if you do not have a GPU set up on your machine.\n",
      "/usr/lib/python3.9/runpy.py:127: RuntimeWarning: 'tf2onnx.convert' found in sys.modules after import of package 'tf2onnx', but prior to execution of 'tf2onnx.convert'; this may result in unpredictable behaviour\n",
      "  warn(RuntimeWarning(msg))\n",
      "2025-05-28 15:51:28.695880: W tensorflow/stream_executor/platform/default/dso_loader.cc:64] Could not load dynamic library 'libcuda.so.1'; dlerror: libcuda.so.1: cannot open shared object file: No such file or directory\n",
      "2025-05-28 15:51:28.695904: W tensorflow/stream_executor/cuda/cuda_driver.cc:269] failed call to cuInit: UNKNOWN ERROR (303)\n",
      "2025-05-28 15:51:28.695920: I tensorflow/stream_executor/cuda/cuda_diagnostics.cc:156] kernel driver does not appear to be running on this host (rob-prestige14evoa11m): /proc/driver/nvidia/version does not exist\n",
      "2025-05-28 15:51:28.696147: I tensorflow/core/platform/cpu_feature_guard.cc:193] This TensorFlow binary is optimized with oneAPI Deep Neural Network Library (oneDNN) to use the following CPU instructions in performance-critical operations:  AVX2 AVX512F AVX512_VNNI FMA\n",
      "To enable them in other operations, rebuild TensorFlow with the appropriate compiler flags.\n",
      "2025-05-28 15:51:28,697 - WARNING - '--tag' not specified for saved_model. Using --tag serve\n",
      "2025-05-28 15:51:28,823 - INFO - Signatures found in model: [serving_default].\n",
      "2025-05-28 15:51:28,823 - WARNING - '--signature_def' not specified, using first signature: serving_default\n",
      "2025-05-28 15:51:28,823 - INFO - Output names: ['output_layer']\n",
      "2025-05-28 15:51:28.825401: I tensorflow/core/grappler/devices.cc:66] Number of eligible GPUs (core count >= 8, compute capability >= 0.0): 0\n",
      "2025-05-28 15:51:28.825557: I tensorflow/core/grappler/clusters/single_machine.cc:358] Starting new session\n",
      "2025-05-28 15:51:28.874265: I tensorflow/core/grappler/devices.cc:66] Number of eligible GPUs (core count >= 8, compute capability >= 0.0): 0\n",
      "2025-05-28 15:51:28.874449: I tensorflow/core/grappler/clusters/single_machine.cc:358] Starting new session\n",
      "2025-05-28 15:51:28,885 - INFO - Using tensorflow=2.9.1, onnx=1.15.0, tf2onnx=1.16.1/15c810\n",
      "2025-05-28 15:51:28,885 - INFO - Using opset <onnx, 15>\n",
      "2025-05-28 15:51:28,904 - INFO - Computed 0 values for constant folding\n",
      "2025-05-28 15:51:28,925 - INFO - Optimizing ONNX model\n",
      "2025-05-28 15:51:28,966 - INFO - After optimization: Identity -2 (2->0)\n",
      "2025-05-28 15:51:28,967 - INFO - \n",
      "2025-05-28 15:51:28,968 - INFO - Successfully converted TensorFlow model ../models/adv_mid_bs64_5e-05_train_0.8558_adv_1.0000_test_0.9984 to ONNX\n",
      "2025-05-28 15:51:28,968 - INFO - Model inputs: ['input_features']\n",
      "2025-05-28 15:51:28,968 - INFO - Model outputs: ['output_layer']\n",
      "2025-05-28 15:51:28,968 - INFO - ONNX model is saved at ../models/onnx/base.onnx\n",
      "2025-05-28 15:51:29.882925: I tensorflow/core/util/util.cc:169] oneDNN custom operations are on. You may see slightly different numerical results due to floating-point round-off errors from different computation orders. To turn them off, set the environment variable `TF_ENABLE_ONEDNN_OPTS=0`.\n",
      "2025-05-28 15:51:29.887812: W tensorflow/stream_executor/platform/default/dso_loader.cc:64] Could not load dynamic library 'libcudart.so.11.0'; dlerror: libcudart.so.11.0: cannot open shared object file: No such file or directory\n",
      "2025-05-28 15:51:29.887840: I tensorflow/stream_executor/cuda/cudart_stub.cc:29] Ignore above cudart dlerror if you do not have a GPU set up on your machine.\n",
      "/usr/lib/python3.9/runpy.py:127: RuntimeWarning: 'tf2onnx.convert' found in sys.modules after import of package 'tf2onnx', but prior to execution of 'tf2onnx.convert'; this may result in unpredictable behaviour\n",
      "  warn(RuntimeWarning(msg))\n",
      "2025-05-28 15:51:31.583703: W tensorflow/stream_executor/platform/default/dso_loader.cc:64] Could not load dynamic library 'libcuda.so.1'; dlerror: libcuda.so.1: cannot open shared object file: No such file or directory\n",
      "2025-05-28 15:51:31.583723: W tensorflow/stream_executor/cuda/cuda_driver.cc:269] failed call to cuInit: UNKNOWN ERROR (303)\n",
      "2025-05-28 15:51:31.583735: I tensorflow/stream_executor/cuda/cuda_diagnostics.cc:156] kernel driver does not appear to be running on this host (rob-prestige14evoa11m): /proc/driver/nvidia/version does not exist\n",
      "2025-05-28 15:51:31.583937: I tensorflow/core/platform/cpu_feature_guard.cc:193] This TensorFlow binary is optimized with oneAPI Deep Neural Network Library (oneDNN) to use the following CPU instructions in performance-critical operations:  AVX2 AVX512F AVX512_VNNI FMA\n",
      "To enable them in other operations, rebuild TensorFlow with the appropriate compiler flags.\n",
      "2025-05-28 15:51:31,584 - WARNING - '--tag' not specified for saved_model. Using --tag serve\n",
      "2025-05-28 15:51:31,682 - INFO - Signatures found in model: [serving_default].\n",
      "2025-05-28 15:51:31,682 - WARNING - '--signature_def' not specified, using first signature: serving_default\n",
      "2025-05-28 15:51:31,682 - INFO - Output names: ['output_layer']\n",
      "2025-05-28 15:51:31.683168: I tensorflow/core/grappler/devices.cc:66] Number of eligible GPUs (core count >= 8, compute capability >= 0.0): 0\n",
      "2025-05-28 15:51:31.683290: I tensorflow/core/grappler/clusters/single_machine.cc:358] Starting new session\n",
      "2025-05-28 15:51:31.711878: I tensorflow/core/grappler/devices.cc:66] Number of eligible GPUs (core count >= 8, compute capability >= 0.0): 0\n",
      "2025-05-28 15:51:31.712040: I tensorflow/core/grappler/clusters/single_machine.cc:358] Starting new session\n",
      "2025-05-28 15:51:31,718 - INFO - Using tensorflow=2.9.1, onnx=1.15.0, tf2onnx=1.16.1/15c810\n",
      "2025-05-28 15:51:31,718 - INFO - Using opset <onnx, 15>\n",
      "2025-05-28 15:51:31,729 - INFO - Computed 0 values for constant folding\n",
      "2025-05-28 15:51:31,740 - INFO - Optimizing ONNX model\n",
      "2025-05-28 15:51:31,761 - INFO - After optimization: Identity -2 (2->0)\n",
      "2025-05-28 15:51:31,762 - INFO - \n",
      "2025-05-28 15:51:31,762 - INFO - Successfully converted TensorFlow model ../models/adv_mid_bs64_2e-08_train_0.9119_adv_0.5556_test_0.7113 to ONNX\n",
      "2025-05-28 15:51:31,762 - INFO - Model inputs: ['input_features']\n",
      "2025-05-28 15:51:31,763 - INFO - Model outputs: ['output_layer']\n",
      "2025-05-28 15:51:31,763 - INFO - ONNX model is saved at ../models/onnx/unsat.onnx\n"
     ]
    }
   ],
   "source": [
    "!python -m tf2onnx.convert --saved-model ../models/adv_mid_bs64_5e-05_train_0.8558_adv_1.0000_test_0.9984 --output ../models/onnx/base.onnx\n",
    "!python -m tf2onnx.convert --saved-model ../models/adv_mid_bs64_2e-08_train_0.9119_adv_0.5556_test_0.7113 --output ../models/onnx/unsat.onnx"
   ]
  },
  {
   "cell_type": "markdown",
   "metadata": {},
   "source": [
    "##  Successful vs Unsuccessful Adversarial Training\n",
    "---"
   ]
  },
  {
   "cell_type": "code",
   "execution_count": 5,
   "metadata": {},
   "outputs": [
    {
     "name": "stdout",
     "output_type": "stream",
     "text": [
      "Verifying properties:\n",
      "  propertyHulk [=================================================] 64/64 queries\n",
      "    result: \u001b[92m🗸\u001b[m - Marabou proved no counterexample exists\n"
     ]
    }
   ],
   "source": [
    "!vehicle verify --specification ../vehicle/global.vcl --verifier Marabou --network classifier:../models/onnx/base.onnx --property propertyHulk"
   ]
  },
  {
   "cell_type": "code",
   "execution_count": 6,
   "metadata": {},
   "outputs": [
    {
     "name": "stdout",
     "output_type": "stream",
     "text": [
      "Verifying properties:\n",
      "  propertyHulk [=============>...................................] 17/64 queries\n",
      "    result: \u001b[91m✗\u001b[m - Marabou found a counterexample\n",
      "      x: [ 0.0, 0.0, 0.0, 1.0, 0.0, 0.0, 1.0, 1.0, 1.0, 0.0, 0.0, 0.0, 7.812e-3, 7.0312e-2, 6.25e-2, 9.375e-2, 6.25e-2, 6.25e-2, 6.25e-2, 9.7656e-2, 9.7656e-2, 9.7656e-2, 0.0, 1.0e-2, 1.0e-2, 1.0e-2, 1.0e-2, 1.0e-2, 1.0e-2, 1.0e-2, 1.0e-2, 1.0e-2, 5.2e-2, 5.2e-2, 4.0e-2, 0.1, 4.0e-2, 0.145773, 4.0e-2, 4.0e-2, 4.0e-2, 9.4227e-2 ]\n"
     ]
    }
   ],
   "source": [
    "!vehicle verify --specification ../vehicle/global.vcl --verifier Marabou --network classifier:../models/onnx/unsat.onnx --property propertyHulk"
   ]
  }
 ],
 "metadata": {
  "kernelspec": {
   "display_name": "data-science",
   "language": "python",
   "name": "python3"
  },
  "language_info": {
   "codemirror_mode": {
    "name": "ipython",
    "version": 3
   },
   "file_extension": ".py",
   "mimetype": "text/x-python",
   "name": "python",
   "nbconvert_exporter": "python",
   "pygments_lexer": "ipython3",
   "version": "3.9.21"
  }
 },
 "nbformat": 4,
 "nbformat_minor": 2
}
